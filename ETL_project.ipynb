{
 "cells": [
  {
   "cell_type": "markdown",
   "metadata": {},
   "source": [
    "# Import Dependencies"
   ]
  },
  {
   "cell_type": "code",
   "execution_count": null,
   "metadata": {},
   "outputs": [],
   "source": [
    "import pandas as pd\n",
    "from sqlalchemy import create_engine  \n",
    "\n",
    "# Bring in password for connection to SQL\n",
    "from config import password"
   ]
  },
  {
   "cell_type": "markdown",
   "metadata": {},
   "source": [
    "# Load CSV Data"
   ]
  },
  {
   "cell_type": "code",
   "execution_count": null,
   "metadata": {},
   "outputs": [],
   "source": [
    "netflix_file = \"Resources/netflix_titles.csv\"\n",
    "netflix_df = pd.read_csv(netflix_file)        \n",
    "netflix_df.head()"
   ]
  },
  {
   "cell_type": "code",
   "execution_count": null,
   "metadata": {},
   "outputs": [],
   "source": [
    "wiki_file = \"Resources/wiki_movie_plots_deduped.csv\"\n",
    "wiki_df = pd.read_csv(wiki_file)\n",
    "wiki_df.head()"
   ]
  },
  {
   "cell_type": "markdown",
   "metadata": {},
   "source": [
    "# Transform titles_file"
   ]
  },
  {
   "cell_type": "code",
   "execution_count": null,
   "metadata": {},
   "outputs": [],
   "source": [
    "\n",
    "# Create a filtered dataframe from specific columns\n",
    "netflix_cols = [\"title\", \"country\", \"release_year\", \"listed_in\"]\n",
    "netflix_transformed= netflix_df[netflix_cols].copy()\n",
    "\n",
    "# Rename the column headers\n",
    "netflix_transformed = netflix_transformed.rename(columns={\"title\": \"title\",\n",
    "                                                          \"country\": \"country\",\n",
    "                                                          \"release_year\": \"release_year\",\n",
    "                                                            \"listed_in\" : \"genre\"})\n",
    "netflix_transformed.head()"
   ]
  },
  {
   "cell_type": "code",
   "execution_count": null,
   "metadata": {},
   "outputs": [],
   "source": [
    "# Filter only rows for \"release_year\" 2010 to 2018.\n",
    "\n",
    "netflix_filtered = netflix_transformed[(netflix_transformed[\"release_year\"] >= 2010) & (netflix_transformed[\"release_year\"] < 2018)]\n",
    "netflix_filtered"
   ]
  },
  {
   "cell_type": "markdown",
   "metadata": {},
   "source": [
    "# Transform plot_file"
   ]
  },
  {
   "cell_type": "code",
   "execution_count": null,
   "metadata": {
    "scrolled": true
   },
   "outputs": [],
   "source": [
    "# Checked for missing Plot entries\n",
    "wiki_df.dropna(subset=['Plot'], how='all', inplace=True)\n",
    "#wiki_df\n",
    "\n",
    "\n",
    "# Create a filtered dataframe from specific columns\n",
    "wiki_cols = [\"Title\", \"Release Year\", \"Director\", \"Genre\", \"Plot\"]\n",
    "wiki_transformed= wiki_df[wiki_cols].copy() \n",
    "\n",
    "# Rename the column headers\n",
    "wiki_transformed = wiki_transformed.rename(columns={\"Title\": \"title\",\n",
    "                                                    \"Release Year\" : \"release_year\",\n",
    "                                                          \"Director\": \"director\",\n",
    "                                                            \"Genre\" : \"genre\",\n",
    "                                                           \"Plot\": \"plot\"})\n",
    "                                           \n",
    "wiki_transformed.head()"
   ]
  },
  {
   "cell_type": "markdown",
   "metadata": {},
   "source": [
    "\n"
   ]
  },
  {
   "cell_type": "code",
   "execution_count": null,
   "metadata": {
    "scrolled": true
   },
   "outputs": [],
   "source": [
    "wiki_filtered = wiki_transformed[(wiki_transformed[\"release_year\"] >= 2010) & (wiki_transformed[\"release_year\"] <= 2018)]\n",
    "wiki_filtered"
   ]
  },
  {
   "cell_type": "code",
   "execution_count": null,
   "metadata": {},
   "outputs": [],
   "source": [
    "wiki_filtered = wiki_filtered.drop_duplicates(subset=['title'], keep=False)"
   ]
  },
  {
   "cell_type": "code",
   "execution_count": null,
   "metadata": {},
   "outputs": [],
   "source": [
    "#Connect to the local database"
   ]
  },
  {
   "cell_type": "code",
   "execution_count": null,
   "metadata": {},
   "outputs": [],
   "source": [
    "rds_connection_string = (f\"postgres:{password}@localhost:5432/movies_db\")\n",
    "engine = create_engine(f'postgresql://{rds_connection_string}')"
   ]
  },
  {
   "cell_type": "code",
   "execution_count": null,
   "metadata": {},
   "outputs": [],
   "source": [
    "# Connect to Engine\n",
    "engine.table_names()"
   ]
  },
  {
   "cell_type": "code",
   "execution_count": null,
   "metadata": {},
   "outputs": [],
   "source": [
    "#Use Pandas to plug in the Netflix CSV file data into the SQL database we created\n",
    "netflix_filtered.to_sql(name='netflix', con=engine, if_exists='append',index=False)"
   ]
  },
  {
   "cell_type": "code",
   "execution_count": null,
   "metadata": {},
   "outputs": [],
   "source": [
    "#Use Pandas to plug in the Wiki CSV file data into the SQL database we created\n",
    "wiki_filtered.to_sql(name='wiki', con=engine, if_exists='append', index=False)"
   ]
  },
  {
   "cell_type": "code",
   "execution_count": null,
   "metadata": {},
   "outputs": [],
   "source": [
    "#Confirm Netflix Data has been added by running a query\n",
    "pd.read_sql_query('select * from netflix', con=engine).head()"
   ]
  },
  {
   "cell_type": "code",
   "execution_count": null,
   "metadata": {},
   "outputs": [],
   "source": [
    "#Confirm Wiki Data has been added by running a query\n",
    "pd.read_sql_query('select * from wiki', con=engine).head()"
   ]
  },
  {
   "cell_type": "code",
   "execution_count": null,
   "metadata": {},
   "outputs": [],
   "source": []
  },
  {
   "cell_type": "code",
   "execution_count": null,
   "metadata": {},
   "outputs": [],
   "source": []
  },
  {
   "cell_type": "code",
   "execution_count": null,
   "metadata": {},
   "outputs": [],
   "source": []
  }
 ],
 "metadata": {
  "kernelspec": {
   "display_name": "Python 3",
   "language": "python",
   "name": "python3"
  },
  "language_info": {
   "codemirror_mode": {
    "name": "ipython",
    "version": 3
   },
   "file_extension": ".py",
   "mimetype": "text/x-python",
   "name": "python",
   "nbconvert_exporter": "python",
   "pygments_lexer": "ipython3",
   "version": "3.6.10"
  }
 },
 "nbformat": 4,
 "nbformat_minor": 4
}
